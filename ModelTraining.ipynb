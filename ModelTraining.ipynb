{
 "cells": [
  {
   "cell_type": "code",
   "execution_count": 1,
   "id": "1e63ed90-8021-48fc-bde0-539fe624193c",
   "metadata": {},
   "outputs": [],
   "source": [
    "import pandas as pd"
   ]
  },
  {
   "cell_type": "code",
   "execution_count": 2,
   "id": "6ff70069-e1d1-4155-8986-c0cb701aca60",
   "metadata": {},
   "outputs": [],
   "source": [
    "df = pd.read_csv(\"spotify_millsongdata.csv\")"
   ]
  },
  {
   "cell_type": "code",
   "execution_count": 4,
   "id": "f8a70a9d-0181-4d32-b94c-bcda6d403ea9",
   "metadata": {},
   "outputs": [
    {
     "data": {
      "text/html": [
       "<div>\n",
       "<style scoped>\n",
       "    .dataframe tbody tr th:only-of-type {\n",
       "        vertical-align: middle;\n",
       "    }\n",
       "\n",
       "    .dataframe tbody tr th {\n",
       "        vertical-align: top;\n",
       "    }\n",
       "\n",
       "    .dataframe thead th {\n",
       "        text-align: right;\n",
       "    }\n",
       "</style>\n",
       "<table border=\"1\" class=\"dataframe\">\n",
       "  <thead>\n",
       "    <tr style=\"text-align: right;\">\n",
       "      <th></th>\n",
       "      <th>artist</th>\n",
       "      <th>song</th>\n",
       "      <th>link</th>\n",
       "      <th>text</th>\n",
       "    </tr>\n",
       "  </thead>\n",
       "  <tbody>\n",
       "    <tr>\n",
       "      <th>0</th>\n",
       "      <td>ABBA</td>\n",
       "      <td>Ahe's My Kind Of Girl</td>\n",
       "      <td>/a/abba/ahes+my+kind+of+girl_20598417.html</td>\n",
       "      <td>Look at her face, it's a wonderful face  \\r\\nA...</td>\n",
       "    </tr>\n",
       "    <tr>\n",
       "      <th>1</th>\n",
       "      <td>ABBA</td>\n",
       "      <td>Andante, Andante</td>\n",
       "      <td>/a/abba/andante+andante_20002708.html</td>\n",
       "      <td>Take it easy with me, please  \\r\\nTouch me gen...</td>\n",
       "    </tr>\n",
       "    <tr>\n",
       "      <th>2</th>\n",
       "      <td>ABBA</td>\n",
       "      <td>As Good As New</td>\n",
       "      <td>/a/abba/as+good+as+new_20003033.html</td>\n",
       "      <td>I'll never know why I had to go  \\r\\nWhy I had...</td>\n",
       "    </tr>\n",
       "    <tr>\n",
       "      <th>3</th>\n",
       "      <td>ABBA</td>\n",
       "      <td>Bang</td>\n",
       "      <td>/a/abba/bang_20598415.html</td>\n",
       "      <td>Making somebody happy is a question of give an...</td>\n",
       "    </tr>\n",
       "    <tr>\n",
       "      <th>4</th>\n",
       "      <td>ABBA</td>\n",
       "      <td>Bang-A-Boomerang</td>\n",
       "      <td>/a/abba/bang+a+boomerang_20002668.html</td>\n",
       "      <td>Making somebody happy is a question of give an...</td>\n",
       "    </tr>\n",
       "  </tbody>\n",
       "</table>\n",
       "</div>"
      ],
      "text/plain": [
       "  artist                   song                                        link  \\\n",
       "0   ABBA  Ahe's My Kind Of Girl  /a/abba/ahes+my+kind+of+girl_20598417.html   \n",
       "1   ABBA       Andante, Andante       /a/abba/andante+andante_20002708.html   \n",
       "2   ABBA         As Good As New        /a/abba/as+good+as+new_20003033.html   \n",
       "3   ABBA                   Bang                  /a/abba/bang_20598415.html   \n",
       "4   ABBA       Bang-A-Boomerang      /a/abba/bang+a+boomerang_20002668.html   \n",
       "\n",
       "                                                text  \n",
       "0  Look at her face, it's a wonderful face  \\r\\nA...  \n",
       "1  Take it easy with me, please  \\r\\nTouch me gen...  \n",
       "2  I'll never know why I had to go  \\r\\nWhy I had...  \n",
       "3  Making somebody happy is a question of give an...  \n",
       "4  Making somebody happy is a question of give an...  "
      ]
     },
     "execution_count": 4,
     "metadata": {},
     "output_type": "execute_result"
    }
   ],
   "source": [
    "df.head(5)"
   ]
  },
  {
   "cell_type": "code",
   "execution_count": 5,
   "id": "5b546892-aa19-4235-a7b8-cc5b49ac7c8e",
   "metadata": {},
   "outputs": [
    {
     "data": {
      "text/html": [
       "<div>\n",
       "<style scoped>\n",
       "    .dataframe tbody tr th:only-of-type {\n",
       "        vertical-align: middle;\n",
       "    }\n",
       "\n",
       "    .dataframe tbody tr th {\n",
       "        vertical-align: top;\n",
       "    }\n",
       "\n",
       "    .dataframe thead th {\n",
       "        text-align: right;\n",
       "    }\n",
       "</style>\n",
       "<table border=\"1\" class=\"dataframe\">\n",
       "  <thead>\n",
       "    <tr style=\"text-align: right;\">\n",
       "      <th></th>\n",
       "      <th>artist</th>\n",
       "      <th>song</th>\n",
       "      <th>link</th>\n",
       "      <th>text</th>\n",
       "    </tr>\n",
       "  </thead>\n",
       "  <tbody>\n",
       "    <tr>\n",
       "      <th>57645</th>\n",
       "      <td>Ziggy Marley</td>\n",
       "      <td>Good Old Days</td>\n",
       "      <td>/z/ziggy+marley/good+old+days_10198588.html</td>\n",
       "      <td>Irie days come on play  \\r\\nLet the angels fly...</td>\n",
       "    </tr>\n",
       "    <tr>\n",
       "      <th>57646</th>\n",
       "      <td>Ziggy Marley</td>\n",
       "      <td>Hand To Mouth</td>\n",
       "      <td>/z/ziggy+marley/hand+to+mouth_20531167.html</td>\n",
       "      <td>Power to the workers  \\r\\nMore power  \\r\\nPowe...</td>\n",
       "    </tr>\n",
       "    <tr>\n",
       "      <th>57647</th>\n",
       "      <td>Zwan</td>\n",
       "      <td>Come With Me</td>\n",
       "      <td>/z/zwan/come+with+me_20148981.html</td>\n",
       "      <td>all you need  \\r\\nis something i'll believe  \\...</td>\n",
       "    </tr>\n",
       "    <tr>\n",
       "      <th>57648</th>\n",
       "      <td>Zwan</td>\n",
       "      <td>Desire</td>\n",
       "      <td>/z/zwan/desire_20148986.html</td>\n",
       "      <td>northern star  \\r\\nam i frightened  \\r\\nwhere ...</td>\n",
       "    </tr>\n",
       "    <tr>\n",
       "      <th>57649</th>\n",
       "      <td>Zwan</td>\n",
       "      <td>Heartsong</td>\n",
       "      <td>/z/zwan/heartsong_20148991.html</td>\n",
       "      <td>come in  \\r\\nmake yourself at home  \\r\\ni'm a ...</td>\n",
       "    </tr>\n",
       "  </tbody>\n",
       "</table>\n",
       "</div>"
      ],
      "text/plain": [
       "             artist           song  \\\n",
       "57645  Ziggy Marley  Good Old Days   \n",
       "57646  Ziggy Marley  Hand To Mouth   \n",
       "57647          Zwan   Come With Me   \n",
       "57648          Zwan         Desire   \n",
       "57649          Zwan      Heartsong   \n",
       "\n",
       "                                              link  \\\n",
       "57645  /z/ziggy+marley/good+old+days_10198588.html   \n",
       "57646  /z/ziggy+marley/hand+to+mouth_20531167.html   \n",
       "57647           /z/zwan/come+with+me_20148981.html   \n",
       "57648                 /z/zwan/desire_20148986.html   \n",
       "57649              /z/zwan/heartsong_20148991.html   \n",
       "\n",
       "                                                    text  \n",
       "57645  Irie days come on play  \\r\\nLet the angels fly...  \n",
       "57646  Power to the workers  \\r\\nMore power  \\r\\nPowe...  \n",
       "57647  all you need  \\r\\nis something i'll believe  \\...  \n",
       "57648  northern star  \\r\\nam i frightened  \\r\\nwhere ...  \n",
       "57649  come in  \\r\\nmake yourself at home  \\r\\ni'm a ...  "
      ]
     },
     "execution_count": 5,
     "metadata": {},
     "output_type": "execute_result"
    }
   ],
   "source": [
    "df.tail(5)"
   ]
  },
  {
   "cell_type": "code",
   "execution_count": 6,
   "id": "4cc5d5a8-f677-4219-a3cc-cde3b89800a7",
   "metadata": {},
   "outputs": [
    {
     "data": {
      "text/plain": [
       "(57650, 4)"
      ]
     },
     "execution_count": 6,
     "metadata": {},
     "output_type": "execute_result"
    }
   ],
   "source": [
    "df.shape"
   ]
  },
  {
   "cell_type": "code",
   "execution_count": 7,
   "id": "b6706ae7-9c5f-423c-bcdb-4bc55094cf4e",
   "metadata": {},
   "outputs": [
    {
     "data": {
      "text/plain": [
       "artist    0\n",
       "song      0\n",
       "link      0\n",
       "text      0\n",
       "dtype: int64"
      ]
     },
     "execution_count": 7,
     "metadata": {},
     "output_type": "execute_result"
    }
   ],
   "source": [
    "df.isnull().sum()"
   ]
  },
  {
   "cell_type": "code",
   "execution_count": 8,
   "id": "f7d75a75-bea9-4511-9f90-d5267c3f6469",
   "metadata": {},
   "outputs": [],
   "source": [
    "df =df.sample(5000).drop('link', axis=1).reset_index(drop=True)"
   ]
  },
  {
   "cell_type": "code",
   "execution_count": 9,
   "id": "665123eb-121b-442e-b4a9-e0d39a2e7836",
   "metadata": {},
   "outputs": [
    {
     "data": {
      "text/html": [
       "<div>\n",
       "<style scoped>\n",
       "    .dataframe tbody tr th:only-of-type {\n",
       "        vertical-align: middle;\n",
       "    }\n",
       "\n",
       "    .dataframe tbody tr th {\n",
       "        vertical-align: top;\n",
       "    }\n",
       "\n",
       "    .dataframe thead th {\n",
       "        text-align: right;\n",
       "    }\n",
       "</style>\n",
       "<table border=\"1\" class=\"dataframe\">\n",
       "  <thead>\n",
       "    <tr style=\"text-align: right;\">\n",
       "      <th></th>\n",
       "      <th>artist</th>\n",
       "      <th>song</th>\n",
       "      <th>text</th>\n",
       "    </tr>\n",
       "  </thead>\n",
       "  <tbody>\n",
       "    <tr>\n",
       "      <th>0</th>\n",
       "      <td>Alice Cooper</td>\n",
       "      <td>Hello Hooray</td>\n",
       "      <td>Hello! Hooray! Let the show begin,  \\r\\nI've b...</td>\n",
       "    </tr>\n",
       "    <tr>\n",
       "      <th>1</th>\n",
       "      <td>Queen</td>\n",
       "      <td>Staying Power</td>\n",
       "      <td>Let me show it to you yeah  \\r\\n  \\r\\nSee what...</td>\n",
       "    </tr>\n",
       "    <tr>\n",
       "      <th>2</th>\n",
       "      <td>Lynyrd Skynyrd</td>\n",
       "      <td>I Never Dreamed</td>\n",
       "      <td>My daddy told me always be strong son  \\r\\nDon...</td>\n",
       "    </tr>\n",
       "    <tr>\n",
       "      <th>3</th>\n",
       "      <td>Townes Van Zandt</td>\n",
       "      <td>Velvet Voices</td>\n",
       "      <td>By Townes Van Zandt  \\r\\nI'll play upon my vio...</td>\n",
       "    </tr>\n",
       "    <tr>\n",
       "      <th>4</th>\n",
       "      <td>Heart</td>\n",
       "      <td>Crazy On You</td>\n",
       "      <td>If we still have time, we might still get by  ...</td>\n",
       "    </tr>\n",
       "    <tr>\n",
       "      <th>5</th>\n",
       "      <td>David Allan Coe</td>\n",
       "      <td>Masterbation Blues</td>\n",
       "      <td>She's alone in the corner, with her panties to...</td>\n",
       "    </tr>\n",
       "    <tr>\n",
       "      <th>6</th>\n",
       "      <td>The Temptations</td>\n",
       "      <td>Friendship Train</td>\n",
       "      <td>Calling out to everyone across the nation  \\r\\...</td>\n",
       "    </tr>\n",
       "    <tr>\n",
       "      <th>7</th>\n",
       "      <td>Irving Berlin</td>\n",
       "      <td>All Alone</td>\n",
       "      <td>[1st verse:]  \\r\\nJust like a melody that ling...</td>\n",
       "    </tr>\n",
       "    <tr>\n",
       "      <th>8</th>\n",
       "      <td>Britney Spears</td>\n",
       "      <td>Rock Star</td>\n",
       "      <td>Put your ass on your shoulders and you ain't n...</td>\n",
       "    </tr>\n",
       "    <tr>\n",
       "      <th>9</th>\n",
       "      <td>Erik Santos</td>\n",
       "      <td>All That I Need</td>\n",
       "      <td>I'm sorry that I hurt you  \\r\\nI took for gran...</td>\n",
       "    </tr>\n",
       "  </tbody>\n",
       "</table>\n",
       "</div>"
      ],
      "text/plain": [
       "             artist                song  \\\n",
       "0      Alice Cooper        Hello Hooray   \n",
       "1             Queen       Staying Power   \n",
       "2    Lynyrd Skynyrd     I Never Dreamed   \n",
       "3  Townes Van Zandt       Velvet Voices   \n",
       "4             Heart        Crazy On You   \n",
       "5   David Allan Coe  Masterbation Blues   \n",
       "6   The Temptations    Friendship Train   \n",
       "7     Irving Berlin           All Alone   \n",
       "8    Britney Spears           Rock Star   \n",
       "9       Erik Santos     All That I Need   \n",
       "\n",
       "                                                text  \n",
       "0  Hello! Hooray! Let the show begin,  \\r\\nI've b...  \n",
       "1  Let me show it to you yeah  \\r\\n  \\r\\nSee what...  \n",
       "2  My daddy told me always be strong son  \\r\\nDon...  \n",
       "3  By Townes Van Zandt  \\r\\nI'll play upon my vio...  \n",
       "4  If we still have time, we might still get by  ...  \n",
       "5  She's alone in the corner, with her panties to...  \n",
       "6  Calling out to everyone across the nation  \\r\\...  \n",
       "7  [1st verse:]  \\r\\nJust like a melody that ling...  \n",
       "8  Put your ass on your shoulders and you ain't n...  \n",
       "9  I'm sorry that I hurt you  \\r\\nI took for gran...  "
      ]
     },
     "execution_count": 9,
     "metadata": {},
     "output_type": "execute_result"
    }
   ],
   "source": [
    "df.head(10)"
   ]
  },
  {
   "cell_type": "code",
   "execution_count": 10,
   "id": "0d93e197-f498-4e9f-959e-9ec932bcf63f",
   "metadata": {},
   "outputs": [
    {
     "data": {
      "text/plain": [
       "\"If I gotta burn in fire  \\r\\nFeel the flames  \\r\\nFor my loved ones to excel in this game  \\r\\nThen let it burn  \\r\\nLet it burn  \\r\\nAs I lay me down to sleep  \\r\\nI pray to the Lord that my soul he keeps  \\r\\nNobody weeps when a G dies  \\r\\nBut like Maya Angelou still we rise  \\r\\nMama tried to keep me home at night  \\r\\nBut despite her attempts  \\r\\nI hung with the macks and the pimps  \\r\\nSidin' with the Rip's  \\r\\nNot 'cause I like blue if you like red  \\r\\nI did it 'cause I never did like you  \\r\\nAnd it said the good die young  \\r\\nI don't recognize myself what have I become?  \\r\\nCan you tell me why am I headed for a dead end?  \\r\\nWhy I got another dead friend?  \\r\\nWhy they surround me- dead men?  \\r\\nEverywhere I look right and left  \\r\\nFlip another page in the book of life and death  \\r\\nIt's comin'- I feel it breathin' down my back  \\r\\nIt got me runnin' Grim Reap ain't cuttin' no slack  \\r\\nWhat can I do where can I go  \\r\\nLord forgive me for all I did 'cause I didn't know  \\r\\nAnd when my heart beats it's last tick  \\r\\nSomebody sat these three words in my casket:  \\r\\nLord have mercy  \\r\\n[chorus]  \\r\\nLord forgive me for all the wrong that I did  \\r\\nAll of the pain that I inflicted as a kid  \\r\\nOn Judgement Day consider this before you curse me  \\r\\nI was only a child so Lord have mercy  \\r\\nForgive me for all the wrong that I've done  \\r\\nAll of the pain I inflicted when I was young  \\r\\nOn Judgement Day consider this before you curse me  \\r\\nI was only a child so Lord have mercy  \\r\\nShould I die before I wake  \\r\\nDon't shed a tear Mama 'cause I finally escaped  \\r\\nNo more drama no more blood sweat and tears  \\r\\nNo more pressure from my peers  \\r\\nand no more fears  \\r\\nI rest in peace- how long will it last  \\r\\nFore I have to answer for what I did in the past  \\r\\nIllin' - willin' and dealin' cops always after me  \\r\\nI call it survival and you call it misanthropy  \\r\\nBut let the record reflect circumstances were suspect  \\r\\nBut you couldn't care less- mann  \\r\\nWhile I struggle to survive  \\r\\nYou turned your eyes- plugged your up ears  \\r\\nIgnored my cries  \\r\\nNow Ms. America sayin' we scarin' her  \\r\\nBut she can give me Liberty or Death- I'm darin' her  \\r\\nEither one'll set me free- that's all I want to be  \\r\\nBut that ain't what y'all want to see  \\r\\nYou'd rather see me killin' up my own in the ghetto  \\r\\nOr sellin' blow to anybody Black, Brown, or Yellow  \\r\\nBut forget that- I'm tryin' to get my head right  \\r\\nEven if it mean I gotta get dead tonight  \\r\\nLord have mercy forgive me  \\r\\n[chorus]  \\r\\nForgive me for the blood that his body bled  \\r\\nAnd all the tears that his Mommy shed  \\r\\nBook says 'Thou Shalt Not Kill'  \\r\\nBut I done seen more blood spilled  \\r\\nThan the vets on Hamburger Hill- it's real  \\r\\nPost War Syndrome- went to see my homie  \\r\\nBut his Mama told me that the homie been gone  \\r\\nEverytime I turn around it be another body on the ground  \\r\\nWith fresh gunshot wounds but he didn't hear a sound  \\r\\nWhen he came out the room  \\r\\nNobody told him he would be dead so soon  \\r\\nBut the gauge went boom Ms. America,  \\r\\nI know you got a cure for AIDS  \\r\\nBut we need a cure for Raid who on a rampage  \\r\\nCan you feel it- the tensions in the air thick  \\r\\nHate got me so high I'm gettin' airsick  \\r\\nGot my people broke lookin for a buck to borrow  \\r\\nDoin it one day at a time fuck your sorrow  \\r\\nFuck tomorrow I want revenge  \\r\\nI got a Beretta named Vendetta  \\r\\nTime to answer for your sin- man  \\r\\nWhen you meet your creator- tell him I apologize  \\r\\nBut I gotta ride Lord have mercy forgive me...  \\r\\n[chorus]\\r\\n\\r\\n\""
      ]
     },
     "execution_count": 10,
     "metadata": {},
     "output_type": "execute_result"
    }
   ],
   "source": [
    "df['text'][10]"
   ]
  },
  {
   "cell_type": "code",
   "execution_count": null,
   "id": "863a8efd-b9a7-4a0b-a82b-bb536cb224c5",
   "metadata": {},
   "outputs": [],
   "source": []
  },
  {
   "cell_type": "code",
   "execution_count": 11,
   "id": "d3eafd17-1515-40fc-b491-d1a55196d724",
   "metadata": {},
   "outputs": [
    {
     "data": {
      "text/plain": [
       "(5000, 3)"
      ]
     },
     "execution_count": 11,
     "metadata": {},
     "output_type": "execute_result"
    }
   ],
   "source": [
    "df.shape"
   ]
  },
  {
   "cell_type": "code",
   "execution_count": 12,
   "id": "aa686fb8-a346-4938-9a5e-cc753d770592",
   "metadata": {},
   "outputs": [],
   "source": [
    "df['text'] = df['text'].str.lower().replace(r'^\\w\\s', ' ').replace(r'\\n', ' ', regex = True)"
   ]
  },
  {
   "cell_type": "code",
   "execution_count": 13,
   "id": "555b15a3-3be8-476b-95a5-419f064b586f",
   "metadata": {},
   "outputs": [
    {
     "data": {
      "text/html": [
       "<div>\n",
       "<style scoped>\n",
       "    .dataframe tbody tr th:only-of-type {\n",
       "        vertical-align: middle;\n",
       "    }\n",
       "\n",
       "    .dataframe tbody tr th {\n",
       "        vertical-align: top;\n",
       "    }\n",
       "\n",
       "    .dataframe thead th {\n",
       "        text-align: right;\n",
       "    }\n",
       "</style>\n",
       "<table border=\"1\" class=\"dataframe\">\n",
       "  <thead>\n",
       "    <tr style=\"text-align: right;\">\n",
       "      <th></th>\n",
       "      <th>artist</th>\n",
       "      <th>song</th>\n",
       "      <th>text</th>\n",
       "    </tr>\n",
       "  </thead>\n",
       "  <tbody>\n",
       "    <tr>\n",
       "      <th>0</th>\n",
       "      <td>Alice Cooper</td>\n",
       "      <td>Hello Hooray</td>\n",
       "      <td>hello! hooray! let the show begin,  \\r i've be...</td>\n",
       "    </tr>\n",
       "    <tr>\n",
       "      <th>1</th>\n",
       "      <td>Queen</td>\n",
       "      <td>Staying Power</td>\n",
       "      <td>let me show it to you yeah  \\r   \\r see what i...</td>\n",
       "    </tr>\n",
       "    <tr>\n",
       "      <th>2</th>\n",
       "      <td>Lynyrd Skynyrd</td>\n",
       "      <td>I Never Dreamed</td>\n",
       "      <td>my daddy told me always be strong son  \\r don'...</td>\n",
       "    </tr>\n",
       "    <tr>\n",
       "      <th>3</th>\n",
       "      <td>Townes Van Zandt</td>\n",
       "      <td>Velvet Voices</td>\n",
       "      <td>by townes van zandt  \\r i'll play upon my viol...</td>\n",
       "    </tr>\n",
       "    <tr>\n",
       "      <th>4</th>\n",
       "      <td>Heart</td>\n",
       "      <td>Crazy On You</td>\n",
       "      <td>if we still have time, we might still get by  ...</td>\n",
       "    </tr>\n",
       "    <tr>\n",
       "      <th>...</th>\n",
       "      <td>...</td>\n",
       "      <td>...</td>\n",
       "      <td>...</td>\n",
       "    </tr>\n",
       "    <tr>\n",
       "      <th>4995</th>\n",
       "      <td>Soundgarden</td>\n",
       "      <td>Fell On Black Days</td>\n",
       "      <td>whatsoever i've feared has come to life  \\r wh...</td>\n",
       "    </tr>\n",
       "    <tr>\n",
       "      <th>4996</th>\n",
       "      <td>Nazareth</td>\n",
       "      <td>Ain't Got You</td>\n",
       "      <td>i got a maseratti two by two  \\r with snakeski...</td>\n",
       "    </tr>\n",
       "    <tr>\n",
       "      <th>4997</th>\n",
       "      <td>The Killers</td>\n",
       "      <td>Daddy's Eyes</td>\n",
       "      <td>i'll tell you what you wanna know,  \\r but boy...</td>\n",
       "    </tr>\n",
       "    <tr>\n",
       "      <th>4998</th>\n",
       "      <td>Matt Redman</td>\n",
       "      <td>You Alone Can Rescue</td>\n",
       "      <td>who, oh lord, could save themselves  \\r their ...</td>\n",
       "    </tr>\n",
       "    <tr>\n",
       "      <th>4999</th>\n",
       "      <td>Ugly Kid Joe</td>\n",
       "      <td>I'll Keep Tryin'</td>\n",
       "      <td>if i had the time and lotsa money  \\r the i'd ...</td>\n",
       "    </tr>\n",
       "  </tbody>\n",
       "</table>\n",
       "<p>5000 rows × 3 columns</p>\n",
       "</div>"
      ],
      "text/plain": [
       "                artist                  song  \\\n",
       "0         Alice Cooper          Hello Hooray   \n",
       "1                Queen         Staying Power   \n",
       "2       Lynyrd Skynyrd       I Never Dreamed   \n",
       "3     Townes Van Zandt         Velvet Voices   \n",
       "4                Heart          Crazy On You   \n",
       "...                ...                   ...   \n",
       "4995       Soundgarden    Fell On Black Days   \n",
       "4996          Nazareth         Ain't Got You   \n",
       "4997       The Killers          Daddy's Eyes   \n",
       "4998       Matt Redman  You Alone Can Rescue   \n",
       "4999      Ugly Kid Joe      I'll Keep Tryin'   \n",
       "\n",
       "                                                   text  \n",
       "0     hello! hooray! let the show begin,  \\r i've be...  \n",
       "1     let me show it to you yeah  \\r   \\r see what i...  \n",
       "2     my daddy told me always be strong son  \\r don'...  \n",
       "3     by townes van zandt  \\r i'll play upon my viol...  \n",
       "4     if we still have time, we might still get by  ...  \n",
       "...                                                 ...  \n",
       "4995  whatsoever i've feared has come to life  \\r wh...  \n",
       "4996  i got a maseratti two by two  \\r with snakeski...  \n",
       "4997  i'll tell you what you wanna know,  \\r but boy...  \n",
       "4998  who, oh lord, could save themselves  \\r their ...  \n",
       "4999  if i had the time and lotsa money  \\r the i'd ...  \n",
       "\n",
       "[5000 rows x 3 columns]"
      ]
     },
     "execution_count": 13,
     "metadata": {},
     "output_type": "execute_result"
    }
   ],
   "source": [
    "df"
   ]
  },
  {
   "cell_type": "code",
   "execution_count": 14,
   "id": "19499dab-514a-434e-acb0-7e1491f4e520",
   "metadata": {},
   "outputs": [
    {
     "data": {
      "text/html": [
       "<div>\n",
       "<style scoped>\n",
       "    .dataframe tbody tr th:only-of-type {\n",
       "        vertical-align: middle;\n",
       "    }\n",
       "\n",
       "    .dataframe tbody tr th {\n",
       "        vertical-align: top;\n",
       "    }\n",
       "\n",
       "    .dataframe thead th {\n",
       "        text-align: right;\n",
       "    }\n",
       "</style>\n",
       "<table border=\"1\" class=\"dataframe\">\n",
       "  <thead>\n",
       "    <tr style=\"text-align: right;\">\n",
       "      <th></th>\n",
       "      <th>artist</th>\n",
       "      <th>song</th>\n",
       "      <th>text</th>\n",
       "    </tr>\n",
       "  </thead>\n",
       "  <tbody>\n",
       "    <tr>\n",
       "      <th>4995</th>\n",
       "      <td>Soundgarden</td>\n",
       "      <td>Fell On Black Days</td>\n",
       "      <td>whatsoever i've feared has come to life  \\r wh...</td>\n",
       "    </tr>\n",
       "    <tr>\n",
       "      <th>4996</th>\n",
       "      <td>Nazareth</td>\n",
       "      <td>Ain't Got You</td>\n",
       "      <td>i got a maseratti two by two  \\r with snakeski...</td>\n",
       "    </tr>\n",
       "    <tr>\n",
       "      <th>4997</th>\n",
       "      <td>The Killers</td>\n",
       "      <td>Daddy's Eyes</td>\n",
       "      <td>i'll tell you what you wanna know,  \\r but boy...</td>\n",
       "    </tr>\n",
       "    <tr>\n",
       "      <th>4998</th>\n",
       "      <td>Matt Redman</td>\n",
       "      <td>You Alone Can Rescue</td>\n",
       "      <td>who, oh lord, could save themselves  \\r their ...</td>\n",
       "    </tr>\n",
       "    <tr>\n",
       "      <th>4999</th>\n",
       "      <td>Ugly Kid Joe</td>\n",
       "      <td>I'll Keep Tryin'</td>\n",
       "      <td>if i had the time and lotsa money  \\r the i'd ...</td>\n",
       "    </tr>\n",
       "  </tbody>\n",
       "</table>\n",
       "</div>"
      ],
      "text/plain": [
       "            artist                  song  \\\n",
       "4995   Soundgarden    Fell On Black Days   \n",
       "4996      Nazareth         Ain't Got You   \n",
       "4997   The Killers          Daddy's Eyes   \n",
       "4998   Matt Redman  You Alone Can Rescue   \n",
       "4999  Ugly Kid Joe      I'll Keep Tryin'   \n",
       "\n",
       "                                                   text  \n",
       "4995  whatsoever i've feared has come to life  \\r wh...  \n",
       "4996  i got a maseratti two by two  \\r with snakeski...  \n",
       "4997  i'll tell you what you wanna know,  \\r but boy...  \n",
       "4998  who, oh lord, could save themselves  \\r their ...  \n",
       "4999  if i had the time and lotsa money  \\r the i'd ...  "
      ]
     },
     "execution_count": 14,
     "metadata": {},
     "output_type": "execute_result"
    }
   ],
   "source": [
    "df.tail(5)"
   ]
  },
  {
   "cell_type": "code",
   "execution_count": 15,
   "id": "2ab7ec43-074f-46aa-9ef4-2d36b7c0d06f",
   "metadata": {},
   "outputs": [],
   "source": [
    "import nltk\n",
    "from nltk.stem.porter import PorterStemmer"
   ]
  },
  {
   "cell_type": "code",
   "execution_count": 16,
   "id": "f77015e1-5cea-4079-85ff-a1f9466e31ac",
   "metadata": {},
   "outputs": [
    {
     "name": "stderr",
     "output_type": "stream",
     "text": [
      "[nltk_data] Downloading package punkt_tab to\n",
      "[nltk_data]     C:\\Users\\DELL\\AppData\\Roaming\\nltk_data...\n",
      "[nltk_data]   Package punkt_tab is already up-to-date!\n"
     ]
    },
    {
     "data": {
      "text/plain": [
       "True"
      ]
     },
     "execution_count": 16,
     "metadata": {},
     "output_type": "execute_result"
    }
   ],
   "source": [
    "nltk.download('punkt_tab')"
   ]
  },
  {
   "cell_type": "code",
   "execution_count": 17,
   "id": "ed6b968b-6e22-4b24-bcf4-b350fbeedd75",
   "metadata": {},
   "outputs": [],
   "source": [
    "stemmer = PorterStemmer()"
   ]
  },
  {
   "cell_type": "code",
   "execution_count": 18,
   "id": "e84eb9a6-930b-4031-abe1-3b07f09c5a0b",
   "metadata": {},
   "outputs": [],
   "source": [
    "def token(txt):\n",
    "    token = nltk.word_tokenize(txt)\n",
    "    a =[stemmer.stem(w) for w in token]\n",
    "    return \" \".join(a)"
   ]
  },
  {
   "cell_type": "code",
   "execution_count": 19,
   "id": "25fc3136-d216-4867-8ded-c6725a1a872c",
   "metadata": {},
   "outputs": [
    {
     "data": {
      "text/plain": [
       "'you are beauti , beauti'"
      ]
     },
     "execution_count": 19,
     "metadata": {},
     "output_type": "execute_result"
    }
   ],
   "source": [
    "token(\"you are beautiful, beauty\")"
   ]
  },
  {
   "cell_type": "code",
   "execution_count": 20,
   "id": "c1bb9e66-0156-4a45-b6b0-ddfe2969f0c8",
   "metadata": {},
   "outputs": [
    {
     "data": {
      "text/plain": [
       "0       hello ! hooray ! let the show begin , i 've be...\n",
       "1       let me show it to you yeah see what i got , i ...\n",
       "2       my daddi told me alway be strong son do n't yo...\n",
       "3       by town van zandt i 'll play upon my violin un...\n",
       "4       if we still have time , we might still get by ...\n",
       "                              ...                        \n",
       "4995    whatsoev i 've fear ha come to life whatsoev i...\n",
       "4996    i got a maseratti two by two with snakeskin up...\n",
       "4997    i 'll tell you what you wan na know , but boy ...\n",
       "4998    who , oh lord , could save themselv their own ...\n",
       "4999    if i had the time and lotsa money the i 'd tak...\n",
       "Name: text, Length: 5000, dtype: object"
      ]
     },
     "execution_count": 20,
     "metadata": {},
     "output_type": "execute_result"
    }
   ],
   "source": [
    "df['text'].apply(lambda x: token(x))"
   ]
  },
  {
   "cell_type": "code",
   "execution_count": 21,
   "id": "af9c8ef4-f6e3-4117-a5f3-528ee2bf0eac",
   "metadata": {},
   "outputs": [
    {
     "name": "stdout",
     "output_type": "stream",
     "text": [
      "Requirement already satisfied: scikit-learn in c:\\users\\dell\\appdata\\local\\programs\\python\\python312\\lib\\site-packages (1.7.2)\n",
      "Requirement already satisfied: numpy>=1.22.0 in c:\\users\\dell\\appdata\\roaming\\python\\python312\\site-packages (from scikit-learn) (2.3.1)\n",
      "Requirement already satisfied: scipy>=1.8.0 in c:\\users\\dell\\appdata\\local\\programs\\python\\python312\\lib\\site-packages (from scikit-learn) (1.16.1)\n",
      "Requirement already satisfied: joblib>=1.2.0 in c:\\users\\dell\\appdata\\local\\programs\\python\\python312\\lib\\site-packages (from scikit-learn) (1.5.2)\n",
      "Requirement already satisfied: threadpoolctl>=3.1.0 in c:\\users\\dell\\appdata\\local\\programs\\python\\python312\\lib\\site-packages (from scikit-learn) (3.6.0)\n",
      "Note: you may need to restart the kernel to use updated packages.\n"
     ]
    }
   ],
   "source": [
    "pip install scikit-learn"
   ]
  },
  {
   "cell_type": "code",
   "execution_count": 22,
   "id": "dddd667f-9583-4f84-bcb0-4166c3878f3d",
   "metadata": {},
   "outputs": [],
   "source": [
    "from sklearn.feature_extraction.text import TfidfVectorizer\n",
    "from sklearn.metrics.pairwise import cosine_similarity"
   ]
  },
  {
   "cell_type": "code",
   "execution_count": 23,
   "id": "8143c7e7-9c8c-494c-be67-969cbc95945a",
   "metadata": {},
   "outputs": [],
   "source": [
    "tfid = TfidfVectorizer(analyzer = 'word' , stop_words='english' )"
   ]
  },
  {
   "cell_type": "code",
   "execution_count": 24,
   "id": "2ab325f4-fcbe-4747-b794-39f1eb0f7b2c",
   "metadata": {},
   "outputs": [],
   "source": [
    " matrix=tfid.fit_transform(df['text'])"
   ]
  },
  {
   "cell_type": "code",
   "execution_count": 25,
   "id": "3b6c41e9-e04a-4ffd-9be0-906efc49d62b",
   "metadata": {},
   "outputs": [],
   "source": [
    "similer =cosine_similarity(matrix)"
   ]
  },
  {
   "cell_type": "code",
   "execution_count": 26,
   "id": "6e069095-ab5e-4a3a-92cf-1e685377ead8",
   "metadata": {},
   "outputs": [
    {
     "data": {
      "text/plain": [
       "array([1.        , 0.02351909, 0.07174159, ..., 0.06094249, 0.        ,\n",
       "       0.01024595], shape=(5000,))"
      ]
     },
     "execution_count": 26,
     "metadata": {},
     "output_type": "execute_result"
    }
   ],
   "source": [
    "similer[0]"
   ]
  },
  {
   "cell_type": "code",
   "execution_count": 31,
   "id": "ea4c9672-1737-4776-ab56-0cce1c465702",
   "metadata": {},
   "outputs": [
    {
     "data": {
      "text/html": [
       "<div>\n",
       "<style scoped>\n",
       "    .dataframe tbody tr th:only-of-type {\n",
       "        vertical-align: middle;\n",
       "    }\n",
       "\n",
       "    .dataframe tbody tr th {\n",
       "        vertical-align: top;\n",
       "    }\n",
       "\n",
       "    .dataframe thead th {\n",
       "        text-align: right;\n",
       "    }\n",
       "</style>\n",
       "<table border=\"1\" class=\"dataframe\">\n",
       "  <thead>\n",
       "    <tr style=\"text-align: right;\">\n",
       "      <th></th>\n",
       "      <th>artist</th>\n",
       "      <th>song</th>\n",
       "      <th>text</th>\n",
       "    </tr>\n",
       "  </thead>\n",
       "  <tbody>\n",
       "  </tbody>\n",
       "</table>\n",
       "</div>"
      ],
      "text/plain": [
       "Empty DataFrame\n",
       "Columns: [artist, song, text]\n",
       "Index: []"
      ]
     },
     "execution_count": 31,
     "metadata": {},
     "output_type": "execute_result"
    }
   ],
   "source": [
    "df[df['song']=='Rattlesnake Shake']"
   ]
  },
  {
   "cell_type": "code",
   "execution_count": null,
   "id": "5c753769-0729-4869-b919-567d7ca042f7",
   "metadata": {},
   "outputs": [],
   "source": [
    "def recommender(song_name):\n",
    "    idx = df[df['song']==song_name].index[0]\n",
    "    distance = sorted(list(enumerate(similer[idx])), reverse=True, key = lambda x:x[1])\n",
    "    song = []\n",
    "    for s_id in distance[1:5]:\n",
    "        song.append(df.iloc[s_id[0]].song)\n",
    "    return song"
   ]
  },
  {
   "cell_type": "code",
   "execution_count": null,
   "id": "3a2e758b-79f5-496d-9939-642da843c000",
   "metadata": {},
   "outputs": [],
   "source": [
    "recommender(\"Rattlesnake Shake\")"
   ]
  },
  {
   "cell_type": "code",
   "execution_count": null,
   "id": "d1c885c6-1953-4821-92b8-9b07594bfdd8",
   "metadata": {},
   "outputs": [],
   "source": []
  }
 ],
 "metadata": {
  "kernelspec": {
   "display_name": "Python 3 (ipykernel)",
   "language": "python",
   "name": "python3"
  },
  "language_info": {
   "codemirror_mode": {
    "name": "ipython",
    "version": 3
   },
   "file_extension": ".py",
   "mimetype": "text/x-python",
   "name": "python",
   "nbconvert_exporter": "python",
   "pygments_lexer": "ipython3",
   "version": "3.12.6"
  }
 },
 "nbformat": 4,
 "nbformat_minor": 5
}
